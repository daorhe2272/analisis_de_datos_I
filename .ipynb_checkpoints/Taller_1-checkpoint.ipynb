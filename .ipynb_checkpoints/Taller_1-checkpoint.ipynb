{
 "cells": [
  {
   "cell_type": "markdown",
   "metadata": {},
   "source": [
    "Problema: ventas no realizadas por inventario insuficiente en una empresa con altos volúmenes de rotación.\n",
    "\n",
    "¿Cómo puedo predecir con precisión la demanda por producto mes a mes, sin manejar inventarios excesivamente altos, en una empresa de distribución de productos de consumo masivo que maneja un catálogo de más de 7.000 artículos?\n",
    "\n",
    "Esta pregunta puede responderse por medio de la técnica de forecasting (pronóstico), teniendo en cuenta que la empresa cuenta con un ERP que conserva datos referentes a la rotación por producto por varios meses. Queda pendiente clarificar cuál es el máximo número de meses con los que se puede contar para el análisis de datos."
   ]
  }
 ],
 "metadata": {
  "kernelspec": {
   "display_name": "Python 3",
   "language": "python",
   "name": "python3"
  },
  "language_info": {
   "codemirror_mode": {
    "name": "ipython",
    "version": 3
   },
   "file_extension": ".py",
   "mimetype": "text/x-python",
   "name": "python",
   "nbconvert_exporter": "python",
   "pygments_lexer": "ipython3",
   "version": "3.8.5"
  }
 },
 "nbformat": 4,
 "nbformat_minor": 4
}
